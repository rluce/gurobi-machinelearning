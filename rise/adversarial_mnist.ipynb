{
 "cells": [
  {
   "cell_type": "markdown",
   "id": "d7e95066",
   "metadata": {
    "slideshow": {
     "slide_type": "slide"
    }
   },
   "source": [
    "# Trained regressors in optimization models\n",
    "\n",
    "#### Robert Luce (Gurobi Optimization)"
   ]
  },
  {
   "cell_type": "markdown",
   "id": "5e466526",
   "metadata": {
    "slideshow": {
     "slide_type": "slide"
    }
   },
   "source": [
    "## Mixed-integer optimization\n",
    "\n",
    "\\begin{alignat}{3}\n",
    "\\min_{x,y} \\quad & f(x, y) \\quad \\mbox{(linear or quadratic)}\\\\\n",
    "\\mbox{s.t.} \\quad & Ax = y\\\\\n",
    "& x, y \\quad \\mbox{some have bounds}\\\\\n",
    "& x, y \\quad \\mbox{some are integer}\n",
    "\\end{alignat}\n",
    "\n",
    "That's a kind of problem Gurobi can solve (`pip install gurobipy`!)"
   ]
  },
  {
   "cell_type": "markdown",
   "id": "abf4a6fb",
   "metadata": {
    "slideshow": {
     "slide_type": "subslide"
    }
   },
   "source": [
    "Now consider a trained regressor $g$:\n",
    "\n",
    "\\begin{alignat}{3}\n",
    "\\min_{x,y} \\quad & f(x, y) \\quad \\mbox{(linear or quadratic)}\\\\\n",
    "\\mbox{s.t.} \\quad & g(x) = y\\\\\n",
    "& x, y \\quad \\mbox{some have bounds}\\\\\n",
    "& x, y \\quad \\mbox{some are integer}\n",
    "\\end{alignat}\n",
    "\n",
    "Meet gurobi-machinelearning: https://github.com/Gurobi/gurobi-machinelearning"
   ]
  },
  {
   "cell_type": "markdown",
   "id": "9c25c77a",
   "metadata": {
    "slideshow": {
     "slide_type": "slide"
    }
   },
   "source": [
    "## Example: Adversarial Machine Learning\n",
    "\n",
    "- \"Can my neural network easily be fooled?\"\n",
    "- Basis: [MNIST](http://yann.lecun.com/exdb/mnist/) handwritten digit database.\n",
    "- Given: a (small) trained neural network and one well classified image $\\bar x$.\n",
    "- Goal: Construct an image $x$ _close to_ $\\bar x$ that is classified with a different label.\n"
   ]
  },
  {
   "cell_type": "code",
   "execution_count": 1,
   "id": "66c369e0",
   "metadata": {
    "slideshow": {
     "slide_type": "skip"
    }
   },
   "outputs": [],
   "source": [
    "import gurobipy as gp\n",
    "import numpy as np\n",
    "from numpy.linalg import norm\n",
    "from joblib import load\n",
    "from matplotlib import pyplot as plt\n",
    "\n",
    "from gurobi_ml.sklearn import add_mlp_regressor_constr"
   ]
  },
  {
   "cell_type": "code",
   "execution_count": 2,
   "id": "a9969f6d",
   "metadata": {
    "slideshow": {
     "slide_type": "fragment"
    }
   },
   "outputs": [],
   "source": [
    "# Load the trained network and the examples\n",
    "mnist_data = load(\"../tests/predictors/mnist__mlpclassifier.joblib\")\n",
    "all_images = mnist_data[\"data\"]\n",
    "nn = mnist_data[\"predictor\"]\n",
    "# Choose an example\n",
    "xbar = all_images[26:27, :]"
   ]
  },
  {
   "cell_type": "markdown",
   "id": "06e9b32a",
   "metadata": {
    "slideshow": {
     "slide_type": "subslide"
    }
   },
   "source": [
    "- $\\bar x$ is a grayscale image of $28\\times 28$ ($=784$) pixels.\n",
    "\n",
    "- The output is a vector $y$ has length 10 (each entry corresponding to a digit).\n",
    "\n",
    "- The image is classified according to the largest entry of $y$."
   ]
  },
  {
   "cell_type": "code",
   "execution_count": 3,
   "id": "069b7f65",
   "metadata": {
    "slideshow": {
     "slide_type": "subslide"
    }
   },
   "outputs": [
    {
     "name": "stdout",
     "output_type": "stream",
     "text": [
      "Label weights for training example:\n",
      " [[1.79465262e-18 6.65641921e-17 1.06634223e-18 1.44193078e-12\n",
      "  9.99999975e-01 1.24335247e-20 2.22614851e-24 7.48097946e-11\n",
      "  4.12834180e-14 2.51918117e-08]]\n",
      "\n",
      "Predicted label is ['4']\n"
     ]
    },
    {
     "data": {
      "image/png": "[encoded data removed]",
      "text/plain": [
       "<Figure size 640x480 with 1 Axes>"
      ]
     },
     "metadata": {},
     "output_type": "display_data"
    }
   ],
   "source": [
    "plt.imshow(xbar.reshape((28, 28)), cmap=\"gray\")\n",
    "print(f\"Label weights for training example:\\n {nn.predict_proba(xbar)}\")\n",
    "print(f\"\\nPredicted label is {nn.predict(xbar)}\")"
   ]
  },
  {
   "cell_type": "markdown",
   "id": "0bee8a9b",
   "metadata": {
    "slideshow": {
     "slide_type": "subslide"
    }
   },
   "source": [
    "## Optimization model"
   ]
  },
  {
   "cell_type": "markdown",
   "id": "28f21b39",
   "metadata": {
    "slideshow": {
     "slide_type": "subslide"
    }
   },
   "source": [
    "- Index $l=4$ of $y$ is correct.  Can we trick the NN to classify a nearby image with index $w=9$?\n",
    "- If we find an image $x$ with $y_w - y_l \\ge 0$: counter example found\n",
    "- If we prove that $y_w - y_l < 0$: no counter-example exists (in the neighbourhood)"
   ]
  },
  {
   "cell_type": "markdown",
   "id": "15f7deb6",
   "metadata": {
    "slideshow": {
     "slide_type": "fragment"
    }
   },
   "source": [
    "If we denote by $g$ the prediction function of the neural network, and $\\delta$ the width of the neighbourhood around $\\bar x$. Our full optimization model reads:\n",
    "\n",
    "\\begin{alignat}{3}\n",
    "\\max_{0 \\le x \\le 1, y} \\quad & y_w - y_l\\\\\n",
    "\\mbox{s.t.} \\quad & \\|x - \\bar{x}\\|_1 \\le \\delta\\\\\n",
    "& g(x) = y\n",
    "\\end{alignat}"
   ]
  },
  {
   "cell_type": "markdown",
   "id": "cf96e553",
   "metadata": {
    "slideshow": {
     "slide_type": "subslide"
    }
   },
   "source": [
    "## gurobipy model"
   ]
  },
  {
   "cell_type": "code",
   "execution_count": 4,
   "id": "56414022",
   "metadata": {
    "slideshow": {
     "slide_type": "fragment"
    }
   },
   "outputs": [],
   "source": [
    "m = gp.Model()\n",
    "delta = 5\n",
    "right_label = 4\n",
    "wrong_label = 9\n",
    "\n",
    "# Create input/output variables\n",
    "x = m.addMVar(xbar.shape, lb=0.0, ub=1.0, name=\"x\")\n",
    "y = m.addMVar(nn.n_outputs_, lb=-np.inf, name=\"y\")\n",
    "\n",
    "# Constrain x to 1-norm neighbourhood around \\bar x\n",
    "eta = m.addMVar(xbar.shape, lb=0, ub=1, name=\"abs_diff\")\n",
    "m.addConstr(eta >= x - xbar)\n",
    "m.addConstr(eta >= -x + xbar)\n",
    "m.addConstr(eta.sum() <= delta);\n",
    "\n",
    "# Objective: Maximize difference between wrong and correct label \n",
    "m.setObjective(y[wrong_label] - y[right_label], gp.GRB.MAXIMIZE)"
   ]
  },
  {
   "cell_type": "markdown",
   "id": "ae933fbd",
   "metadata": {
    "slideshow": {
     "slide_type": "subslide"
    }
   },
   "source": [
    "Insert the neural network in the gurobipy model to link `x` and `y`."
   ]
  },
  {
   "cell_type": "code",
   "execution_count": 5,
   "id": "33a92f5c",
   "metadata": {
    "slideshow": {
     "slide_type": "skip"
    }
   },
   "outputs": [],
   "source": [
    "# No activation function on output layer needed; reset it\n",
    "nn.out_activation_ = \"identity\""
   ]
  },
  {
   "cell_type": "code",
   "execution_count": 6,
   "id": "dc47017f",
   "metadata": {
    "slideshow": {
     "slide_type": "fragment"
    }
   },
   "outputs": [],
   "source": [
    "%%capture\n",
    "# Reformulate neural network as constraints in gurobipy model\n",
    "pred_constr = add_mlp_regressor_constr(m, nn, x, y)"
   ]
  },
  {
   "cell_type": "code",
   "execution_count": 7,
   "id": "b205eba3",
   "metadata": {
    "slideshow": {
     "slide_type": "skip"
    }
   },
   "outputs": [],
   "source": [
    "# Restore activation\n",
    "nn.out_activation_ = \"softmax\""
   ]
  },
  {
   "cell_type": "markdown",
   "id": "a1c76b3b",
   "metadata": {
    "slideshow": {
     "slide_type": "subslide"
    }
   },
   "source": [
    "## Solving the model"
   ]
  },
  {
   "cell_type": "code",
   "execution_count": 8,
   "id": "8f3f46a9",
   "metadata": {
    "slideshow": {
     "slide_type": "fragment"
    }
   },
   "outputs": [
    {
     "name": "stdout",
     "output_type": "stream",
     "text": [
      "Set parameter BestBdStop to value 0\n",
      "Set parameter BestObjStop to value 0\n",
      "Gurobi Optimizer version 10.0.0 build v10.0.0rc2 (mac64[arm])\n",
      "\n",
      "CPU model: Apple M1 Pro\n",
      "Thread count: 8 physical cores, 8 logical processors, using up to 8 threads\n",
      "\n",
      "Optimize a model with 1679 rows, 1778 columns and 41700 nonzeros\n",
      "Model fingerprint: 0x6dedd378\n",
      "Model has 100 general constraints\n",
      "Variable types: 1778 continuous, 0 integer (0 binary)\n",
      "Coefficient statistics:\n",
      "  Matrix range     [1e-13, 2e+00]\n",
      "  Objective range  [1e+00, 1e+00]\n",
      "  Bounds range     [1e+00, 1e+00]\n",
      "  RHS range        [3e-03, 5e+00]\n",
      "Presolve removed 1245 rows and 730 columns\n",
      "Presolve time: 0.08s\n",
      "Presolved: 434 rows, 1048 columns, 37809 nonzeros\n",
      "Variable types: 967 continuous, 81 integer (76 binary)\n",
      "\n",
      "Root relaxation: objective 2.559291e+03, 296 iterations, 0.01 seconds (0.01 work units)\n",
      "\n",
      "    Nodes    |    Current Node    |     Objective Bounds      |     Work\n",
      " Expl Unexpl |  Obj  Depth IntInf | Incumbent    BestBd   Gap | It/Node Time\n",
      "\n",
      "     0     0 2559.29131    0   54          - 2559.29131      -     -    0s\n",
      "     0     0 2283.40429    0   52          - 2283.40429      -     -    0s\n",
      "     0     0 2266.28900    0   52          - 2266.28900      -     -    0s\n",
      "     0     0 2266.26778    0   52          - 2266.26778      -     -    0s\n",
      "     0     0 1961.25402    0   55          - 1961.25402      -     -    0s\n",
      "     0     0 1919.44646    0   56          - 1919.44646      -     -    0s\n",
      "     0     0 1911.14596    0   56          - 1911.14596      -     -    0s\n",
      "     0     0 1910.91486    0   56          - 1910.91486      -     -    0s\n",
      "     0     0 1793.70087    0   56          - 1793.70087      -     -    0s\n",
      "     0     0 1705.76754    0   58          - 1705.76754      -     -    0s\n",
      "     0     0 1696.88480    0   59          - 1696.88480      -     -    0s\n",
      "     0     0 1695.31089    0   58          - 1695.31089      -     -    0s\n",
      "     0     0 1695.16081    0   59          - 1695.16081      -     -    0s\n",
      "     0     0 1337.91262    0   62          - 1337.91262      -     -    0s\n",
      "     0     0 1273.03116    0   64          - 1273.03116      -     -    0s\n",
      "     0     0 1259.37844    0   63          - 1259.37844      -     -    0s\n",
      "     0     0 1257.81868    0   64          - 1257.81868      -     -    0s\n",
      "     0     0 1257.22760    0   63          - 1257.22760      -     -    0s\n",
      "     0     0 1051.12282    0   63          - 1051.12282      -     -    0s\n",
      "     0     0 1027.80421    0   62          - 1027.80421      -     -    0s\n",
      "     0     0 1020.70286    0   64          - 1020.70286      -     -    0s\n",
      "     0     0 1019.20338    0   63          - 1019.20338      -     -    0s\n",
      "     0     0 1019.07909    0   63          - 1019.07909      -     -    0s\n",
      "H    0     0                       4.3552519  863.14506      -     -    0s\n",
      "     0     0  863.14506    0   64    4.35525  863.14506      -     -    0s\n",
      "\n",
      "Cutting planes:\n",
      "  Implied bound: 5\n",
      "  MIR: 140\n",
      "  Flow cover: 52\n",
      "\n",
      "Explored 1 nodes (2471 simplex iterations) in 0.93 seconds (0.98 work units)\n",
      "Thread count was 8 (of 8 available processors)\n",
      "\n",
      "Solution count 1: 4.35525 \n",
      "\n",
      "Optimization achieved user objective limit\n",
      "Best objective 4.355251855537e+00, best bound 8.631450587418e+02, gap 19718.4878%\n"
     ]
    }
   ],
   "source": [
    "m.Params.BestBdStop = 0.0\n",
    "m.Params.BestObjStop = 0.0\n",
    "m.optimize()"
   ]
  },
  {
   "cell_type": "code",
   "execution_count": 9,
   "id": "f8475ca5",
   "metadata": {
    "slideshow": {
     "slide_type": "subslide"
    }
   },
   "outputs": [
    {
     "name": "stdout",
     "output_type": "stream",
     "text": [
      "[[7.15940265e-13 1.37959057e-14 9.99321606e-11 2.58100456e-12\n",
      "  1.26696068e-02 9.09242419e-15 9.59255030e-21 5.39833400e-04\n",
      "  1.48724798e-12 9.86790560e-01]]\n",
      "\n",
      "Solution is classified as ['9']\n",
      "Number of changed pixels: 10\n"
     ]
    },
    {
     "data": {
      "image/png": "[encoded data removed]",
      "text/plain": [
       "<Figure size 640x480 with 1 Axes>"
      ]
     },
     "metadata": {},
     "output_type": "display_data"
    }
   ],
   "source": [
    "plt.imshow(x.X.reshape((28, 28)), cmap=\"gray\")\n",
    "\n",
    "print(nn.predict_proba(x.X))\n",
    "print(f\"\\nSolution is classified as {nn.predict(x.X)}\")\n",
    "print(f\"Number of changed pixels: {np.count_nonzero(xbar - x.X)}\")"
   ]
  },
  {
   "cell_type": "markdown",
   "id": "ecb906e7",
   "metadata": {
    "nbsphinx": "hidden",
    "slideshow": {
     "slide_type": "slide"
    }
   },
   "source": [
    "# Thanks!\n",
    "\n",
    "#### luce@gurobi.com"
   ]
  }
 ],
 "metadata": {
  "celltoolbar": "Slideshow",
  "kernelspec": {
   "display_name": "Python 3 (ipykernel)",
   "language": "python",
   "name": "python3"
  },
  "language_info": {
   "codemirror_mode": {
    "name": "ipython",
    "version": 3
   },
   "file_extension": ".py",
   "mimetype": "text/x-python",
   "name": "python",
   "nbconvert_exporter": "python",
   "pygments_lexer": "ipython3",
   "version": "3.9.13"
  },
  "license": {
   "full_text": "# Copyright © 2023 Gurobi Optimization, LLC\n#\n# Licensed under the Apache License, Version 2.0 (the \"License\");\n# you may not use this file except in compliance with the License.\n# You may obtain a copy of the License at\n#\n#     http://www.apache.org/licenses/LICENSE-2.0\n#\n# Unless required by applicable law or agreed to in writing, software\n# distributed under the License is distributed on an \"AS IS\" BASIS,\n# WITHOUT WARRANTIES OR CONDITIONS OF ANY KIND, either express or implied.\n# See the License for the specific language governing permissions and\n# limitations under the License.\n# =============================================================================="
  }
 },
 "nbformat": 4,
 "nbformat_minor": 5
}
